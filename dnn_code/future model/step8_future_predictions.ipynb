{
 "cells": [
  {
   "cell_type": "code",
   "execution_count": 1,
   "metadata": {},
   "outputs": [],
   "source": [
    "from mpl_toolkits.axes_grid1 import make_axes_locatable\n",
    "import matplotlib.pyplot as plt\n",
    "from rasterio.plot import show\n",
    "import matplotlib.colors\n",
    "import numpy as np\n",
    "import pandas as pd\n",
    "import rasterio\n",
    "from osgeo import gdal\n",
    "import os\n",
    "import tensorflow\n",
    "import keras\n",
    "from keras.models import model_from_json\n",
    "from keras.optimizers import Adam\n",
    "from keras.losses import categorical_crossentropy\n",
    "import tensorflow as tf\n",
    "\n",
    "np.random.seed(42)\n",
    "\n",
    "def my_basename(path):\n",
    "    return os.path.splitext(os.path.split(path)[1])[0]\n",
    "\n",
    "file_dir=('/Users/maddie/Projects/CPSC_597/')"
   ]
  },
  {
   "cell_type": "code",
   "execution_count": null,
   "metadata": {},
   "outputs": [
    {
     "name": "stdout",
     "output_type": "stream",
     "text": [
      "(9, 2160, 4320)\n",
      "<class 'numpy.ndarray'>\n"
     ]
    }
   ],
   "source": [
    "##opening raster as 3d numpy array\n",
    "inRas=gdal.Open(file_dir+'data/modified_data/stacked_bio_oracle_future/bio_oracle_future_stacked.tif')\n",
    "myarray=inRas.ReadAsArray()\n",
    "print(myarray.shape)\n",
    "print(type(myarray))\n"
   ]
  },
  {
   "cell_type": "code",
   "execution_count": null,
   "metadata": {},
   "outputs": [
    {
     "data": {
      "image/png": "[encoded data removed]",
      "text/plain": [
       "<Figure size 432x288 with 2 Axes>"
      ]
     },
     "metadata": {
      "needs_background": "light"
     },
     "output_type": "display_data"
    }
   ],
   "source": [
    "#create colormap for maps\n",
    "norm = matplotlib.colors.Normalize(0,1)\n",
    "colors = [[norm(0), \"0.95\"],\n",
    "          [norm(0.05),\"steelblue\"],\n",
    "          [norm(0.1),\"sienna\"],\n",
    "          [norm(0.3),\"wheat\"],\n",
    "          [norm(0.5),\"cornsilk\"],\n",
    "          [norm(0.95),\"yellowgreen\"],\n",
    "          [norm(1.0),\"green\"]]\n",
    "        \n",
    "custom_cmap = matplotlib.colors.LinearSegmentedColormap.from_list(\"\", colors)\n",
    "custom_cmap.set_bad(color=\"white\")\n",
    "\n",
    "fig, ax=plt.subplots()\n",
    "x = np.arange(10)\n",
    "y = np.linspace(-1,1,10)\n",
    "sc = ax.scatter(x,y, c=y, norm=norm, cmap=custom_cmap)\n",
    "fig.colorbar(sc, orientation=\"horizontal\")\n",
    "plt.show()"
   ]
  },
  {
   "cell_type": "code",
   "execution_count": null,
   "metadata": {},
   "outputs": [],
   "source": [
    "#access file with list of taxa names\n",
    "taxa=pd.read_csv(file_dir+\"results/DNN_performance/DNN_eval.txt\",sep=\"\\t\")\n",
    "taxa=taxa[\"Species\"]"
   ]
  },
  {
   "cell_type": "code",
   "execution_count": null,
   "metadata": {},
   "outputs": [],
   "source": [
    "%%capture\n",
    "for species in taxa[:]:\n",
    "\n",
    "    spec=species\n",
    "    print(\"processing\", spec)\n",
    "    spec=spec.replace(\" \",\"_\")\n",
    "\n",
    "    ##########################################################\n",
    "    #  reconstruct the model and run the prediction globally #\n",
    "    ##########################################################\n",
    "\n",
    "    input_X=np.load(file_dir+'data/modified_data/prediction_arrays/future_world_prediction_array.npy')\n",
    "    df=pd.DataFrame(input_X)\n",
    "\n",
    "    #create copy of band to later subset values in\n",
    "    new_band=myarray[1].copy()\n",
    "    new_band.shape\n",
    "    \n",
    "    ### Load DNN model for the species and predict values:\n",
    "    json_file = open(file_dir+'/results/fish_future/{}/{}_model.json'.format(spec,spec),'r')\n",
    "    loaded_model_json = json_file.read()\n",
    "    json_file.close()\n",
    "    loaded_model = model_from_json(loaded_model_json)\n",
    "\n",
    "    #load weights into new model\n",
    "    loaded_model.load_weights(file_dir+'/results/fish_future/{}/{}_model.h5'.format(spec,spec))\n",
    "\n",
    "    #compile model\n",
    "    loaded_model.compile(loss='categorical_crossentropy', optimizer=Adam(lr=0.001), metrics=['accuracy'])\n",
    "\n",
    "    #predict values\n",
    "    new_values = loaded_model.predict(x=input_X,batch_size=500,verbose=0) ###predict output value\n",
    "\n",
    "    ##take the prob. of presence (new_value.item((0,1))) and put into numpy array\n",
    "    new_band_values=[]\n",
    "   \n",
    "    for i in new_values:\n",
    "        new_value=i[1]\n",
    "        new_band_values.append(new_value)\n",
    "    new_band_values=np.array(new_band_values)\n",
    "\n",
    "    df=pd.read_csv(file_dir+'/data/modified_data/prediction_arrays/future_world_prediction_row_col.csv')\n",
    "    row=df[\"row\"]\n",
    "    row=row.values\n",
    "    col=df[\"col\"]\n",
    "    col=col.values\n",
    "    \n",
    "    #################################\n",
    "    # subset output into rasterband #\n",
    "    #################################\n",
    "    for i in range(0,len(row)):\n",
    "        new_band[int(row[i]),int(col[i])]=new_band_values[i]\n",
    "\n",
    "    #new_band[index_minb]=np.nan #exclude lakes, inland seas, coastline\n",
    "   \n",
    "    \n",
    "    src=rasterio.open(file_dir+'data/modified_data/stacked_bio_oracle_future/bio_oracle_future_stacked.tif')\n",
    "    profile=src.profile\n",
    "    profile.update(count=1)\n",
    "\n",
    "    #write to file\n",
    "    with rasterio.open(file_dir+'results/fish_future/{}/{}_predicted_map_future.tif'.format(spec,spec), 'w', **profile) as dst:\n",
    "        dst.write(new_band, 1) \n",
    "        \n",
    "    ####################################\n",
    "    # create additional colormap image #\n",
    "    ####################################\n",
    "    \n",
    "    clipped = rasterio.open(file_dir+'results/fish_future/{}/{}_predicted_map_future.tif'.format(spec,spec))\n",
    "    \n",
    "    array = clipped.read(1)\n",
    "    array_data = clipped.read(1,masked=True)\n",
    "    array_meta = clipped.profile\n",
    "    \n",
    "    #create figure\n",
    "    my_dpi=96\n",
    "    fig, ax = plt.subplots(figsize=(4320/my_dpi, 1800/my_dpi))\n",
    "    im=ax.imshow(array_data,cmap=custom_cmap,interpolation=\"bilinear\",vmin=0,vmax=0.99)#,filternorm=1)\n",
    "    divider=make_axes_locatable(ax)\n",
    "    cax=divider.append_axes(\"right\",size=\"2%\",pad=0.1)\n",
    "    fig.colorbar(im,cax=cax)\n",
    "    spec=spec.replace(\"_\",\" \")\n",
    "    plt.yticks(fontsize=40)\n",
    "    ax.set_title('%s prediction map'%spec,fontsize=80)\n",
    "    \n",
    "    #save to file\n",
    "    spec=spec.replace(\" \",\"_\")\n",
    "    plt.savefig(file_dir+'results/fish_future/{}/{}_predicted_map_future_color.png'.format(spec,spec),dpi=my_dpi)\n",
    "    \n",
    "    #next species!"
   ]
  }
 ],
 "metadata": {
  "kernelspec": {
   "display_name": "Python 3 (ipykernel)",
   "language": "python",
   "name": "python3"
  },
  "language_info": {
   "codemirror_mode": {
    "name": "ipython",
    "version": 3
   },
   "file_extension": ".py",
   "mimetype": "text/x-python",
   "name": "python",
   "nbconvert_exporter": "python",
   "pygments_lexer": "ipython3",
   "version": "3.9.7"
  }
 },
 "nbformat": 4,
 "nbformat_minor": 2
}
