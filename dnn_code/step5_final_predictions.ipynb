{
 "cells": [
  {
   "cell_type": "code",
   "execution_count": 3,
   "metadata": {},
   "outputs": [],
   "source": [
    "from mpl_toolkits.axes_grid1 import make_axes_locatable\n",
    "import matplotlib.pyplot as plt\n",
    "from rasterio.plot import show\n",
    "import matplotlib.colors\n",
    "import numpy as np\n",
    "import pandas as pd\n",
    "import rasterio\n",
    "from osgeo import gdal\n",
    "import os\n",
    "import tensorflow\n",
    "import keras\n",
    "from keras.models import model_from_json\n",
    "from keras.optimizers import Adam\n",
    "from keras.losses import categorical_crossentropy\n",
    "import tensorflow as tf\n",
    "\n",
    "np.random.seed(42)\n",
    "\n",
    "def my_basename(path):\n",
    "    return os.path.splitext(os.path.split(path)[1])[0]\n",
    "\n",
    "file_dir=('/Users/maddie/Projects/CPSC_597/')"
   ]
  },
  {
   "cell_type": "code",
   "execution_count": 4,
   "metadata": {},
   "outputs": [
    {
     "name": "stdout",
     "output_type": "stream",
     "text": [
      "(9, 2160, 4320)\n",
      "<class 'numpy.ndarray'>\n"
     ]
    }
   ],
   "source": [
    "##opening raster as 3d numpy array\n",
    "inRas=gdal.Open(file_dir+'data/modified_data/stacked_bio_oracle/bio_oracle_stacked.tif')\n",
    "myarray=inRas.ReadAsArray()\n",
    "print(myarray.shape)\n",
    "print(type(myarray))\n"
   ]
  },
  {
   "cell_type": "code",
   "execution_count": 5,
   "metadata": {},
   "outputs": [],
   "source": [
    "#access file with list of taxa names\n",
    "taxa=pd.read_csv(file_dir+\"results/DNN_performance/DNN_eval.txt\",sep=\"\\t\")\n",
    "taxa=taxa[\"Species\"]"
   ]
  },
  {
   "cell_type": "code",
   "execution_count": 9,
   "metadata": {},
   "outputs": [],
   "source": [
    "%%capture\n",
    "for species in taxa[:]:\n",
    "\n",
    "    spec=species\n",
    "    print(\"processing\", spec)\n",
    "    spec=spec.replace(\" \",\"_\")\n",
    "\n",
    "    ##########################################################\n",
    "    #  reconstruct the model and run the prediction globally #\n",
    "    ##########################################################\n",
    "\n",
    "    input_X=np.load(file_dir+'/data/world_prediction_array.npy')\n",
    "    df=pd.DataFrame(input_X)\n",
    "\n",
    "    #create copy of band to later subset values in\n",
    "\n",
    "\n",
    "\n",
    "    ### Load DNN model for the species and predict values:\n",
    "    json_file = open(file_dir+'/results/fish/{}/{}_model.json'.format(spec,spec),'r')\n",
    "    loaded_model_json = json_file.read()\n",
    "    json_file.close()\n",
    "    loaded_model = model_from_json(loaded_model_json)\n",
    "\n",
    "    #load weights into new model\n",
    "    loaded_model.load_weights(file_dir+'/results/fish/{}/{}_model.h5'.format(spec,spec))\n",
    "\n",
    "    #compile model\n",
    "    loaded_model.compile(loss='categorical_crossentropy', optimizer=Adam(lr=0.001), metrics=['accuracy'])\n",
    "\n",
    "    #predict values\n",
    "    new_values = loaded_model.predict(x=input_X,batch_size=500,verbose=0) ###predict output value\n",
    "\n",
    "    ##take the prob. of presence (new_value.item((0,1))) and put into numpy array\n",
    "  \n",
    "\n",
    "    df=pd.read_csv(file_dir+'data/world_prediction_row_col.csv')\n",
    "    row=df[\"row\"]\n",
    "    row=row.values\n",
    "    col=df[\"col\"]\n",
    "    col=col.values\n",
    "    \n",
    "    #################################\n",
    "    # subset output into rasterband #\n",
    "    #################################\n",
    "    \n",
    "    src=rasterio.open(file_dir+'data/modified_data/stacked_bio_oracle/bio_oracle_stacked.tif')\n",
    "    profile=src.profile\n",
    "    profile.update(count=1)\n",
    "\n",
    "    #write to file\n",
    "    with rasterio.open(file_dir+'/results/fish/{}/{}_predicted_map.tif'.format(spec,spec), 'w', **profile) as dst:\n",
    "        dst.write(new_band, 1) \n",
    "        \n",
    "    ####################################\n",
    "    # create additional colormap image #\n",
    "    ####################################\n",
    "    \n",
    "    clipped = rasterio.open(file_dir+'/results/fish/{}/{}_predicted_map.tif'.format(spec,spec))\n",
    "    \n",
    "    array = clipped.read(1)\n",
    "    array_data = clipped.read(1,masked=True)\n",
    "    array_meta = clipped.profile\n",
    "    \n",
    "    #create figure\n",
    "    my_dpi=96\n",
    "    fig, ax = plt.subplots(figsize=(4320/my_dpi, 1800/my_dpi))\n",
    "    im=ax.imshow(array_data,cmap=custom_cmap,interpolation=\"bilinear\",vmin=0,vmax=0.99)#,filternorm=1)\n",
    "    divider=make_axes_locatable(ax)\n",
    "    cax=divider.append_axes(\"right\",size=\"2%\",pad=0.1)\n",
    "    fig.colorbar(im,cax=cax)\n",
    "    spec=spec.replace(\"_\",\" \")\n",
    "    plt.yticks(fontsize=40)\n",
    "    ax.set_title('%s prediction map'%spec,fontsize=80)\n",
    "    \n",
    "    #save to file\n",
    "    spec=spec.replace(\" \",\"_\")\n",
    "    plt.savefig(file_dir+'/results/fish/{}/{}_predicted_map_color.png'.format(spec,spec),dpi=my_dpi)\n",
    "    \n",
    "    #next species!"
   ]
  }
 ],
 "metadata": {
  "kernelspec": {
   "display_name": "Python 3",
   "language": "python",
   "name": "python3"
  },
  "language_info": {
   "codemirror_mode": {
    "name": "ipython",
    "version": 3
   },
   "file_extension": ".py",
   "mimetype": "text/x-python",
   "name": "python",
   "nbconvert_exporter": "python",
   "pygments_lexer": "ipython3",
   "version": "3.9.7"
  },
  "orig_nbformat": 4
 },
 "nbformat": 4,
 "nbformat_minor": 2
}
