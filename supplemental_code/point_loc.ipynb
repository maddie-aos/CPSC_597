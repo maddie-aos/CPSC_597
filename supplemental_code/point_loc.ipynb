{
 "cells": [
  {
   "cell_type": "code",
   "execution_count": 24,
   "metadata": {},
   "outputs": [
    {
     "name": "stdout",
     "output_type": "stream",
     "text": [
      "32.71\n",
      "-140.5\n",
      "41.37\n",
      "-120.53\n",
      "            sci_name  deci_lat  deci_lon  presence_absence\n",
      "0    Xiphias gladius     33.49   -133.70                 1\n",
      "1    Xiphias gladius     34.53   -127.79                 1\n",
      "2    Xiphias gladius     32.99   -129.78                 1\n",
      "3    Xiphias gladius     33.18   -122.02                 1\n",
      "4    Xiphias gladius     34.34   -139.93                 1\n",
      "..               ...       ...       ...               ...\n",
      "995  Xiphias gladius     38.15   -124.27                 1\n",
      "996  Xiphias gladius     39.67   -139.90                 1\n",
      "997  Xiphias gladius     40.73   -139.18                 1\n",
      "998  Xiphias gladius     35.59   -124.54                 1\n",
      "999  Xiphias gladius     36.50   -132.41                 1\n",
      "\n",
      "[1000 rows x 4 columns]\n"
     ]
    }
   ],
   "source": [
    "import numpy as np\n",
    "from shapely.geometry import Point, Polygon\n",
    "import pandas as pd\n",
    "import matplotlib.pyplot as plt\n",
    "import geopandas as gpd\n",
    "from pathlib import Path\n",
    "file_dir = ('/Users/maddie/Projects/CPSC_597/data/fish_data_raw_copy/')\n",
    "df = pd.read_csv(file_dir+'/Xiphias_gladius_pres.csv')\n",
    "\n",
    "for i in range (len(df)):\n",
    "    df['presence_absence'] = 1\n",
    "    minlat = df['deci_lat'].min()\n",
    "    minlon = df['deci_lon'].min()\n",
    "    maxlat = df['deci_lat'].max()\n",
    "    maxlon = df['deci_lon'].max()\n",
    "print(minlat)\n",
    "print(minlon)\n",
    "print(maxlat)\n",
    "print(maxlon)\n",
    "print(df)\n",
    "df.to_csv(file_dir+'/Xiphias_gladius_pres.csv')  "
   ]
  },
  {
   "cell_type": "code",
   "execution_count": 13,
   "metadata": {},
   "outputs": [],
   "source": [
    "def Random_Points_in_Bounds(polygon, number):   \n",
    "    minx, miny, maxx, maxy = polygon.bounds\n",
    "    x = np.random.uniform( minx, maxx, number )\n",
    "    y = np.random.uniform( miny, maxy, number )\n",
    "    return x, y\n",
    "\n",
    "\n",
    "polygon = Polygon([[34.2748885, -119.46355],[34.2748885, -120.068155],[35.196535, -120.9670095],[35.196535, -121.2650212],[34.2748885, -119.46355]])\n",
    "gdf_poly = gpd.GeoDataFrame(index=[\"myPoly\"], geometry=[polygon])\n",
    "\n",
    "\n",
    "\n",
    "x,y = Random_Points_in_Bounds(polygon,30)\n",
    "df2 = pd.DataFrame()\n",
    "df2['x'] = list(x)\n",
    "df2['y'] = list(y)\n",
    "df2.to_excel('output.xlsx')"
   ]
  },
  {
   "cell_type": "code",
   "execution_count": 31,
   "metadata": {},
   "outputs": [
    {
     "name": "stdout",
     "output_type": "stream",
     "text": [
      "            sci_name  deci_lat  deci_lon  presence_absence\n",
      "0    Xiphias gladius     33.49   -133.75                 0\n",
      "1    Xiphias gladius     34.53   -127.84                 0\n",
      "2    Xiphias gladius     32.99   -129.83                 0\n",
      "3    Xiphias gladius     33.18   -122.07                 0\n",
      "4    Xiphias gladius     34.34   -139.98                 0\n",
      "..               ...       ...       ...               ...\n",
      "995  Xiphias gladius     38.15   -124.32                 0\n",
      "996  Xiphias gladius     39.67   -139.95                 0\n",
      "997  Xiphias gladius     40.73   -139.23                 0\n",
      "998  Xiphias gladius     35.59   -124.59                 0\n",
      "999  Xiphias gladius     36.50   -132.46                 0\n",
      "\n",
      "[1000 rows x 4 columns]\n",
      "            sci_name  deci_lat  deci_lon  presence_absence\n",
      "0    Xiphias gladius     33.49   -133.70                 1\n",
      "1    Xiphias gladius     34.53   -127.79                 1\n",
      "2    Xiphias gladius     32.99   -129.78                 1\n",
      "3    Xiphias gladius     33.18   -122.02                 1\n",
      "4    Xiphias gladius     34.34   -139.93                 1\n",
      "..               ...       ...       ...               ...\n",
      "995  Xiphias gladius     38.15   -124.32                 0\n",
      "996  Xiphias gladius     39.67   -139.95                 0\n",
      "997  Xiphias gladius     40.73   -139.23                 0\n",
      "998  Xiphias gladius     35.59   -124.59                 0\n",
      "999  Xiphias gladius     36.50   -132.46                 0\n",
      "\n",
      "[2000 rows x 4 columns]\n"
     ]
    }
   ],
   "source": [
    "df3 = pd.read_csv(file_dir+'/Xiphias_gladius_pseud.csv')\n",
    "for i in range (len(df)):\n",
    "    df3['presence_absence'] = 0\n",
    "print(df3)\n",
    "\n",
    "master = df.append(df3)\n",
    "print(master)\n",
    "\n",
    "filepath = Path('/Users/maddie/Projects/CPSC_597/data/fish_data/Xiphias_gladius.csv')  \n",
    "filepath.parent.mkdir(parents=True, exist_ok=True)  \n",
    "master.to_csv(filepath)  \n"
   ]
  }
 ],
 "metadata": {
  "kernelspec": {
   "display_name": "base",
   "language": "python",
   "name": "python3"
  },
  "language_info": {
   "codemirror_mode": {
    "name": "ipython",
    "version": 3
   },
   "file_extension": ".py",
   "mimetype": "text/x-python",
   "name": "python",
   "nbconvert_exporter": "python",
   "pygments_lexer": "ipython3",
   "version": "3.9.7"
  },
  "orig_nbformat": 4,
  "vscode": {
   "interpreter": {
    "hash": "4624e6697a0031784eb693c6f40396b07cc796092abab14ba65c66bb0661ee7e"
   }
  }
 },
 "nbformat": 4,
 "nbformat_minor": 2
}
