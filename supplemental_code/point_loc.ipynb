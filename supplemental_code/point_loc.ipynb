{
 "cells": [
  {
   "cell_type": "code",
   "execution_count": 47,
   "metadata": {},
   "outputs": [
    {
     "name": "stdout",
     "output_type": "stream",
     "text": [
      "     Unnamed: 0  Unnamed: 0.1  Unnamed: 0.1.1                sci_name  \\\n",
      "0             0             0               0  Citharichthys sordidus   \n",
      "1             1             1               1  Citharichthys sordidus   \n",
      "2             2             2               2  Citharichthys sordidus   \n",
      "3             3             3               3  Citharichthys sordidus   \n",
      "4             4             4               4  Citharichthys sordidus   \n",
      "..          ...           ...             ...                     ...   \n",
      "995         995           995             995  Citharichthys sordidus   \n",
      "996         996           996             996  Citharichthys sordidus   \n",
      "997         997           997             997  Citharichthys sordidus   \n",
      "998         998           998             998  Citharichthys sordidus   \n",
      "999         999           999             999  Citharichthys sordidus   \n",
      "\n",
      "     deci_lat  deci_lon  presence_absence  \n",
      "0       32.72   -118.02                 1  \n",
      "1       32.73   -118.48                 1  \n",
      "2       32.73   -118.81                 1  \n",
      "3       32.74   -117.33                 1  \n",
      "4       32.74   -118.52                 1  \n",
      "..        ...       ...               ...  \n",
      "995     41.58   -124.38                 1  \n",
      "996     41.60   -124.42                 1  \n",
      "997     41.63   -124.53                 1  \n",
      "998     41.63   -124.52                 1  \n",
      "999     41.65   -124.36                 1  \n",
      "\n",
      "[1000 rows x 7 columns]\n"
     ]
    }
   ],
   "source": [
    "import numpy as np\n",
    "from shapely.geometry import Point, Polygon\n",
    "import pandas as pd\n",
    "import matplotlib.pyplot as plt\n",
    "import geopandas as gpd\n",
    "from pathlib import Path\n",
    "\n",
    "df = pd.read_csv('/Users/maddie/Projects/CPSC_597/data/data_raw/fish_data_raw/Citharichthys_sordidus_pres.csv')\n",
    "for i in range (len(df)):\n",
    "    df['presence_absence'] = 1\n",
    "minlat = df['deci_lat'].min()\n",
    "minlon = df['deci_lon'].min()\n",
    "maxlat = df['deci_lat'].max()\n",
    "maxlon = df['deci_lon'].max()\n",
    "print(minlat)\n",
    "print(minlon)\n",
    "print(maxlat)\n",
    "print(maxlon)\n",
    "print(df)\n",
    "df.to_csv('/Users/maddie/Projects/CPSC_597/data/data_raw/fish_data_raw/Citharichthys_sordidus_pres.csv')  "
   ]
  },
  {
   "cell_type": "code",
   "execution_count": 81,
   "metadata": {},
   "outputs": [],
   "source": [
    "def Random_Points_in_Bounds(polygon, number):   \n",
    "    minx, miny, maxx, maxy = polygon.bounds\n",
    "    x = np.random.uniform( minx, maxx, number )\n",
    "    y = np.random.uniform( miny, maxy, number )\n",
    "    return x, y\n",
    "\n",
    "\n",
    "polygon = Polygon([[34.2748885, -119.46355],[34.2748885, -120.068155],[35.196535, -120.9670095],[35.196535, -121.2650212],[34.2748885, -119.46355]])\n",
    "gdf_poly = gpd.GeoDataFrame(index=[\"myPoly\"], geometry=[polygon])\n",
    "\n",
    "\n",
    "\n",
    "x,y = Random_Points_in_Bounds(polygon,228)\n",
    "df2 = pd.DataFrame()\n",
    "df2['x'] = list(x)\n",
    "df2['y'] = list(y)\n",
    "df2.to_excel('output.xlsx')"
   ]
  },
  {
   "cell_type": "code",
   "execution_count": 67,
   "metadata": {},
   "outputs": [
    {
     "name": "stdout",
     "output_type": "stream",
     "text": [
      "            sci_name  deci_lat  deci_lon  presence_absence\n",
      "0    Xiphias gladuis     32.59   -117.13                 0\n",
      "1    Xiphias gladuis     32.59   -117.14                 0\n",
      "2    Xiphias gladuis     32.60   -117.20                 0\n",
      "3    Xiphias gladuis     32.62   -117.22                 0\n",
      "4    Xiphias gladuis     32.62   -117.29                 0\n",
      "..               ...       ...       ...               ...\n",
      "261  Xiphias gladuis     41.49   -124.10                 0\n",
      "262  Xiphias gladuis     41.59   -124.13                 0\n",
      "263  Xiphias gladuis     41.60   -124.14                 0\n",
      "264  Xiphias gladuis     41.62   -124.16                 0\n",
      "265  Xiphias gladuis     41.68   -124.18                 0\n",
      "\n",
      "[266 rows x 4 columns]\n",
      "            sci_name   deci_lat    deci_lon  presence_absence\n",
      "0    Xiphias gladius  32.573889 -117.116944                 1\n",
      "1    Xiphias gladius  32.573889 -117.116944                 1\n",
      "2    Xiphias gladius  32.573889 -117.116944                 1\n",
      "3    Xiphias gladius  32.684444 -117.161389                 1\n",
      "4    Xiphias gladius  32.684444 -117.161389                 1\n",
      "..               ...        ...         ...               ...\n",
      "261  Xiphias gladuis  41.490000 -124.100000                 0\n",
      "262  Xiphias gladuis  41.590000 -124.130000                 0\n",
      "263  Xiphias gladuis  41.600000 -124.140000                 0\n",
      "264  Xiphias gladuis  41.620000 -124.160000                 0\n",
      "265  Xiphias gladuis  41.680000 -124.180000                 0\n",
      "\n",
      "[743 rows x 4 columns]\n"
     ]
    }
   ],
   "source": [
    "df3 = pd.read_csv('/Users/maddie/Projects/CPSC_597/data/data_raw/fishdata_raw/Citharichthys_sordidus_pseud.csv')\n",
    "for i in range (len(df)):\n",
    "    df3['presence_absence'] = 0\n",
    "print(df3)\n",
    "\n",
    "xip_gla = df.append(df3)\n",
    "print(xip_gla)\n",
    "\n",
    "filepath = Path('/Users/maddie/Projects/CPSC_597/data/data_raw/fish_data/Citharichthys_sordidus.csv')  \n",
    "filepath.parent.mkdir(parents=True, exist_ok=True)  \n",
    "xip_gla.to_csv(filepath)  \n"
   ]
  }
 ],
 "metadata": {
  "kernelspec": {
   "display_name": "base",
   "language": "python",
   "name": "python3"
  },
  "language_info": {
   "codemirror_mode": {
    "name": "ipython",
    "version": 3
   },
   "file_extension": ".py",
   "mimetype": "text/x-python",
   "name": "python",
   "nbconvert_exporter": "python",
   "pygments_lexer": "ipython3",
   "version": "3.9.7"
  },
  "orig_nbformat": 4
 },
 "nbformat": 4,
 "nbformat_minor": 2
}
