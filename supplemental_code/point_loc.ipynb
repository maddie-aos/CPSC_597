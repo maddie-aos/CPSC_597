{
 "cells": [
  {
   "cell_type": "code",
   "execution_count": 64,
   "metadata": {},
   "outputs": [
    {
     "name": "stdout",
     "output_type": "stream",
     "text": [
      "32.573889\n",
      "-124.190278\n",
      "41.744722\n",
      "-117.116944\n",
      "            sci_name   deci_lat    deci_lon  presence_absence\n",
      "0    Xiphias gladius  32.573889 -117.116944                 1\n",
      "1    Xiphias gladius  32.573889 -117.116944                 1\n",
      "2    Xiphias gladius  32.573889 -117.116944                 1\n",
      "3    Xiphias gladius  32.684444 -117.161389                 1\n",
      "4    Xiphias gladius  32.684444 -117.161389                 1\n",
      "..               ...        ...         ...               ...\n",
      "472  Xiphias gladius  41.744722 -124.190000                 1\n",
      "473  Xiphias gladius  41.744722 -124.190000                 1\n",
      "474  Xiphias gladius  41.744722 -124.190000                 1\n",
      "475  Xiphias gladius  41.744722 -124.190000                 1\n",
      "476  Xiphias gladius  41.744722 -124.190000                 1\n",
      "\n",
      "[477 rows x 4 columns]\n"
     ]
    }
   ],
   "source": [
    "import numpy as np\n",
    "from shapely.geometry import Point, Polygon\n",
    "import pandas as pd\n",
    "import matplotlib.pyplot as plt\n",
    "import geopandas as gpd\n",
    "from pathlib import Path\n",
    "\n",
    "df = pd.read_csv('/Users/maddie/Projects/CPSC_597/data/data_raw/fishdata_raw/Xiphias_gladius_pres.csv')\n",
    "for i in range (len(df)):\n",
    "    df['presence_absence'] = 1\n",
    "minlat = df['deci_lat'].min()\n",
    "minlon = df['deci_lon'].min()\n",
    "maxlat = df['deci_lat'].max()\n",
    "maxlon = df['deci_lon'].max()\n",
    "print(minlat)\n",
    "print(minlon)\n",
    "print(maxlat)\n",
    "print(maxlon)\n",
    "print(df)\n"
   ]
  },
  {
   "cell_type": "code",
   "execution_count": 66,
   "metadata": {},
   "outputs": [],
   "source": [
    "def Random_Points_in_Bounds(polygon, number):   \n",
    "    minx, miny, maxx, maxy = polygon.bounds\n",
    "    x = np.random.uniform( minx, maxx, number )\n",
    "    y = np.random.uniform( miny, maxy, number )\n",
    "    return x, y\n",
    "\n",
    "\n",
    "polygon = Polygon([[32.573889, -117.116944],[32.573889,-124.208889],[41.744722, -124.19583],[41.744722,-124.2088897],[32.573889, -117.116944]])\n",
    "gdf_poly = gpd.GeoDataFrame(index=[\"myPoly\"], geometry=[polygon])\n",
    "\n",
    "\n",
    "\n",
    "x,y = Random_Points_in_Bounds(polygon,523)\n",
    "df2 = pd.DataFrame()\n",
    "df2['x'] = list(x)\n",
    "df2['y'] = list(y)\n",
    "df2.to_excel('output.xlsx')"
   ]
  },
  {
   "cell_type": "code",
   "execution_count": 67,
   "metadata": {},
   "outputs": [
    {
     "name": "stdout",
     "output_type": "stream",
     "text": [
      "            sci_name  deci_lat  deci_lon  presence_absence\n",
      "0    Xiphias gladuis     32.59   -117.13                 0\n",
      "1    Xiphias gladuis     32.59   -117.14                 0\n",
      "2    Xiphias gladuis     32.60   -117.20                 0\n",
      "3    Xiphias gladuis     32.62   -117.22                 0\n",
      "4    Xiphias gladuis     32.62   -117.29                 0\n",
      "..               ...       ...       ...               ...\n",
      "261  Xiphias gladuis     41.49   -124.10                 0\n",
      "262  Xiphias gladuis     41.59   -124.13                 0\n",
      "263  Xiphias gladuis     41.60   -124.14                 0\n",
      "264  Xiphias gladuis     41.62   -124.16                 0\n",
      "265  Xiphias gladuis     41.68   -124.18                 0\n",
      "\n",
      "[266 rows x 4 columns]\n",
      "            sci_name   deci_lat    deci_lon  presence_absence\n",
      "0    Xiphias gladius  32.573889 -117.116944                 1\n",
      "1    Xiphias gladius  32.573889 -117.116944                 1\n",
      "2    Xiphias gladius  32.573889 -117.116944                 1\n",
      "3    Xiphias gladius  32.684444 -117.161389                 1\n",
      "4    Xiphias gladius  32.684444 -117.161389                 1\n",
      "..               ...        ...         ...               ...\n",
      "261  Xiphias gladuis  41.490000 -124.100000                 0\n",
      "262  Xiphias gladuis  41.590000 -124.130000                 0\n",
      "263  Xiphias gladuis  41.600000 -124.140000                 0\n",
      "264  Xiphias gladuis  41.620000 -124.160000                 0\n",
      "265  Xiphias gladuis  41.680000 -124.180000                 0\n",
      "\n",
      "[743 rows x 4 columns]\n"
     ]
    }
   ],
   "source": [
    "df3 = pd.read_csv('/Users/maddie/Projects/CPSC_597/data/data_raw/fishdata_raw/xip_gla_pseud.csv')\n",
    "for i in range (len(df)):\n",
    "    df3['presence_absence'] = 0\n",
    "print(df3)\n",
    "\n",
    "xip_gla = df.append(df3)\n",
    "print(xip_gla)\n",
    "\n",
    "filepath = Path('/Users/maddie/Projects/CPSC_597/data/data_raw/fish_data/Xiphias_gladius.csv')  \n",
    "filepath.parent.mkdir(parents=True, exist_ok=True)  \n",
    "xip_gla.to_csv(filepath)  \n"
   ]
  }
 ],
 "metadata": {
  "kernelspec": {
   "display_name": "base",
   "language": "python",
   "name": "python3"
  },
  "language_info": {
   "codemirror_mode": {
    "name": "ipython",
    "version": 3
   },
   "file_extension": ".py",
   "mimetype": "text/x-python",
   "name": "python",
   "nbconvert_exporter": "python",
   "pygments_lexer": "ipython3",
   "version": "3.9.7"
  },
  "orig_nbformat": 4
 },
 "nbformat": 4,
 "nbformat_minor": 2
}
