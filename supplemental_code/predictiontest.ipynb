{
 "cells": [
  {
   "cell_type": "code",
   "execution_count": 1,
   "metadata": {},
   "outputs": [
    {
     "name": "stderr",
     "output_type": "stream",
     "text": [
      "2023-04-24 21:08:02.250460: I tensorflow/core/platform/cpu_feature_guard.cc:182] This TensorFlow binary is optimized to use available CPU instructions in performance-critical operations.\n",
      "To enable the following instructions: AVX2 AVX512F AVX512_VNNI FMA, in other operations, rebuild TensorFlow with the appropriate compiler flags.\n"
     ]
    }
   ],
   "source": [
    "import pandas as pd\n",
    "import tensorflow as tf\n",
    "import keras\n",
    "from keras.models import model_from_json\n",
    "import h5py\n",
    "from keras.optimizers import Adam\n",
    "from keras.models import load_model\n",
    "import numpy as np\n",
    "import rasterio\n",
    "from osgeo import gdal, gdal_array"
   ]
  },
  {
   "cell_type": "code",
   "execution_count": 4,
   "metadata": {},
   "outputs": [],
   "source": [
    "cit_sor_model_future = load_model('/Users/maddie/Projects/CPSC_597/deploy_webapp/saved_models/Citharichthys_sordidus_future.h5')"
   ]
  },
  {
   "cell_type": "code",
   "execution_count": 6,
   "metadata": {},
   "outputs": [],
   "source": [
    "data = [[32.555,-123.44]]\n",
    "# Create the pandas DataFrame\n",
    "df = pd.DataFrame(data, columns=['deci_lat', 'deci_lon'])\n",
    "  "
   ]
  },
  {
   "cell_type": "code",
   "execution_count": 8,
   "metadata": {},
   "outputs": [
    {
     "name": "stdout",
     "output_type": "stream",
     "text": [
      "0\n",
      "1\n",
      "2\n",
      "3\n",
      "4\n",
      "5\n",
      "6\n",
      "7\n",
      "8\n"
     ]
    }
   ],
   "source": [
    "inRas=gdal.Open('/Users/maddie/Projects/CPSC_597/data/modified_data/stacked_bio_oracle_future/bio_oracle_future_stacked.tif')\n",
    "myarray=inRas.ReadAsArray()\n",
    "\n",
    "len_pd=np.arange(len(df))\n",
    "lon=df[\"deci_lon\"]\n",
    "lat=df[\"deci_lat\"]\n",
    "lon=lon.values\n",
    "lat=lat.values\n",
    "    \n",
    "    \n",
    "row=[]\n",
    "col=[]\n",
    "\n",
    "\n",
    "src=rasterio.open('/Users/maddie/Projects/CPSC_597/data/modified_data/stacked_bio_oracle_future/bio_oracle_future_stacked.tif', crs= 'espg: 4326')\n",
    "for i in len_pd:\n",
    "    row_n, col_n = src.index(lon[i], lat[i])# spatial --> image coordinates\n",
    "    row.append(row_n)\n",
    "    col.append(col_n)\n",
    "    \n",
    "mean_std=pd.read_csv('/Users/maddie/Projects/CPSC_597/data/modified_data/stacked_bio_oracle_future/future_env_bio_mean_std.txt',sep=\"\\t\")\n",
    "mean_std=mean_std.to_numpy()\n",
    "\n",
    "X=[]\n",
    "for j in range(0,9):\n",
    "    print(j)\n",
    "    band=myarray[j]\n",
    "    x=[]\n",
    "        \n",
    "    for i in range(0,len(row)):\n",
    "        value= band[row[i],col[i]]\n",
    "        if value <-1000:\n",
    "            x.append(value)\n",
    "        else:\n",
    "            value = ((value - mean_std.item((j,1))) / mean_std.item((j,2))) # scale values\n",
    "            x.append(value)\n",
    "    X.append(x)\n",
    "\n",
    "X.append(row)\n",
    "X.append(col)\n",
    "\n",
    "X =np.array([np.array(xi) for xi in X])\n",
    "    \n",
    "df=pd.DataFrame(X)\n",
    "df=df.T\n",
    "    \n",
    "    #drop any rows with no-data values\n",
    "df=df.dropna(axis=0, how='any')\n",
    "input_X=df.loc[:,0:8]\n",
    "    \n",
    "row=df[9]\n",
    "col=df[10]\n",
    "    \n",
    "row_col=pd.DataFrame({\"row\":row,\"col\":col})\n",
    "   \n",
    "input_X=input_X.values\n",
    "    \n",
    "    #convert rows and col indices back to array\n",
    "row=row.values\n",
    "col=col.values\n",
    "    \n",
    "prediction_array=np.save('/Users/maddie/Projects/CPSC_597/deploy_webapp/predictions/prediction_array.npy',input_X)\n",
    "prediction_pandas=row_col.to_csv('/Users/maddie/Projects/CPSC_597/deploy_webapp/predictions/prediction_row_col.csv')\n",
    "\n",
    "    #predicting outcome\n",
    "input_X=np.load('/Users/maddie/Projects/CPSC_597/deploy_webapp/predictions/prediction_array.npy')\n",
    "df=pd.DataFrame(input_X)\n",
    "\n",
    "    #create copy of band to later subset values in\n",
    "new_band=myarray[1].copy()\n",
    "new_band.shape\n",
    "\n",
    "new_values = cit_sor_model_future.predict(x=input_X,verbose=0) ###predict output value\n",
    "\n",
    "    ##take the prob. of presence (new_value.item((0,1))) and put into numpy array\n",
    "new_band_values=[]\n",
    "   \n",
    "for i in new_values:\n",
    "    new_value=i[1]\n",
    "    new_band_values.append(new_value)\n",
    "new_band_values=np.array(new_band_values)\n",
    "\n"
   ]
  },
  {
   "cell_type": "code",
   "execution_count": 19,
   "metadata": {},
   "outputs": [],
   "source": [
    "my_string = \"Predicted Probability: \"\n",
    "resultdf = pd.DataFrame(new_band_values, columns=['result'])\n",
    "result_value = resultdf['result'].values[0]\n",
    "result = my_string + str(result_value)"
   ]
  }
 ],
 "metadata": {
  "kernelspec": {
   "display_name": "Python 3",
   "language": "python",
   "name": "python3"
  },
  "language_info": {
   "codemirror_mode": {
    "name": "ipython",
    "version": 3
   },
   "file_extension": ".py",
   "mimetype": "text/x-python",
   "name": "python",
   "nbconvert_exporter": "python",
   "pygments_lexer": "ipython3",
   "version": "3.9.16"
  },
  "orig_nbformat": 4
 },
 "nbformat": 4,
 "nbformat_minor": 2
}
